{
 "cells": [
  {
   "cell_type": "markdown",
   "metadata": {},
   "source": [
    "#### Práctica Introductoria\n",
    "---\n",
    "### Objetivo: Familiarizarnos con el uso del entorno virtual (Jupyter Hub) y algunos comandos básicos de Python\n",
    "\n",
    "1. Crear un nuevo directorio \"Prueba\" en su usuario.\n",
    "\n",
    "2. Crear un nuevo script (notebook) de python.\n",
    "\n",
    "3. Genere tres vectores\n",
    "\n",
    "    a) Vector cuyos elementos vayan desde 0 a 10, con pasos de 0,1 (Vector A).\n",
    "    \n",
    "    b)  Vector con los valores que toma la función seno para cada uno de los elementos del vector A.\n",
    "    \n",
    "    c) Vector con la raíz cuadrada de cada uno de los elementos del vector A.\n",
    "\n",
    "4.  Realice un gráfico \"scatter\" con el vector A en el eje X y el vector B en el eje y.\n",
    "\n",
    "5.  Realice un gráfico donde el vector A esté en el eje X y los vector B y C sean dos líneas (roja y verde respectivamente). Incluya una leyenda y un título en el gráfico.\n",
    "\n",
    "6. Genere un array bi-dimensional a partir de la siguiente secuencia de código. Explore la función de cada sentencia y su correspondiente sintaxis.\n",
    "\n",
    "    ```\n",
    "   delta = 0.025\n",
    "   x = np.arange(-3.0, 3.01, delta)\n",
    "   y = x\n",
    "   X, Y = np.meshgrid(x, y)\n",
    "   Z1 = np.exp(-X**2 - Y**2)\n",
    "   Z2 = np.exp(-(X - 1)**2 - (Y - 1)**2)\n",
    "   Z = (Z1 - Z2) * 2\n",
    "    ```\n",
    "    \n",
    "\n",
    "7. Grafique el array Z utilizando contornos con sombreado. Incluya una barra de colores. Haga el gráfico con dos \"colormaps\" distintos."
   ]
  }
 ],
 "metadata": {
  "kernelspec": {
   "display_name": "Python 3",
   "language": "python",
   "name": "python3"
  },
  "language_info": {
   "codemirror_mode": {
    "name": "ipython",
    "version": 3
   },
   "file_extension": ".py",
   "mimetype": "text/x-python",
   "name": "python",
   "nbconvert_exporter": "python",
   "pygments_lexer": "ipython3",
   "version": "3.8.5"
  }
 },
 "nbformat": 4,
 "nbformat_minor": 4
}
