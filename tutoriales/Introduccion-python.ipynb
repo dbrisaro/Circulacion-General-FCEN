{
 "cells": [
  {
   "cell_type": "markdown",
   "metadata": {},
   "source": [
    "---------------------------------------\n",
    "## Introducción a Python\n",
    "Python es un lenguaje ampliamente usado en la actualidad.\n",
    "1. Interactivo: Dispone de un intérprete por línea de comandos en el que se pueden introducir sentencias.\n",
    "2. Multiplataforma: Hay versiones disponibles para diferentes sistemas operativos.\n",
    "3. Es libre, de código abierto y con una gran comunidad de usuarios.\n",
    "\n",
    "#### Anaconda \n",
    "Anaconda es una distribución gratuita y de código abierto de lenguajes de programación como Python y R para ciencia de datos, que tiene como objetivo simplificar la administración de paquetes. Anaconda tiene un amplio repositorio de librerías y paquetes que son utilizados en los códigos de Python. \n",
    "\n",
    "Pueden encontrar más información sobre su instalación [en este link](https://docs.anaconda.com/anaconda/install/)\n",
    "\n",
    "---------------------------------------\n",
    "## Entornos\n",
    "1. **Spyder**\n",
    "\n",
    "Interfaz muy similar a RStudio o Matlab. Contiene un editor de texto con resaltado de sintaxis, autocompletado de código, explorador de variables. \n",
    "\n",
    "<img src=\"https://warehouse-camo.ingress.cmh1.psfhosted.org/e17f348f3969dddb155554d0e58cd50753ad4a66/68747470733a2f2f7261772e67697468756275736572636f6e74656e742e636f6d2f7370796465722d6964652f7370796465722f6d61737465722f696d675f7372632f73637265656e73686f742e706e67\" width=\"600\">\n",
    "\n",
    "2. **Jupyter notebooks**\n",
    "\n",
    "Interfaz interactiva. Es un documento que contiene una lista ordenada de entradas/salidas. Puede contener código, texto, figuras, etc. Pueden ser convertidos a otros formatos de archivos como HTML, presentaciones de diapositivas, LaTeX, PDF, Python, etc. Es lo que estamos usando ahora!\n",
    "\n",
    "\n",
    "3. **pyCharm**\n",
    "\n",
    "Tiene varias funcionalidades: consola interactiva de python, una interfaz para jupyter notebooks, permite configurar ambientes de trabajo por proyecto \n",
    "\n",
    "<img src=\"https://www.jetbrains.com/lp/pycharm-anaconda/static/177b58e12cd3b3fa63e28cc88d99b49b/ee604/pycharm_landing_7.png\" width=\"600\">\n"
   ]
  },
  {
   "cell_type": "markdown",
   "metadata": {},
   "source": [
    "---------------------------------------\n",
    "## Características del lenguaje\n",
    "1. **Variables**: Son dinámicas, no es necesario identificar su tipo de antemano y pueden tomar distintos valores en otro momento."
   ]
  },
  {
   "cell_type": "code",
   "execution_count": 7,
   "metadata": {},
   "outputs": [
    {
     "name": "stdout",
     "output_type": "stream",
     "text": [
      "5\n",
      "esto es un string\n",
      "[1, 2, 3, 4]\n"
     ]
    }
   ],
   "source": [
    "a = 5\n",
    "print(a)\n",
    "\n",
    "a = 'esto es un string'\n",
    "print(a)\n",
    "\n",
    "a = [1,2,3,4]\n",
    "print(a)"
   ]
  },
  {
   "cell_type": "markdown",
   "metadata": {},
   "source": [
    "2. **Módulos**: proveen ciertas funciones y clases para realizar determinadas tareas y se agregan a los códigos escribiendo en la parte superior ```import <modulo>```"
   ]
  },
  {
   "cell_type": "code",
   "execution_count": 8,
   "metadata": {},
   "outputs": [
    {
     "name": "stdout",
     "output_type": "stream",
     "text": [
      "[0 2 4 6]\n"
     ]
    }
   ],
   "source": [
    "import numpy as np \n",
    "a = np.array([0,2,4,6])\n",
    "print(a)"
   ]
  },
  {
   "cell_type": "markdown",
   "metadata": {},
   "source": [
    "3. **Indentación**: los tabuladores importan y mucho! \n",
    "\n",
    "4. **Contadores**: Python comienza a contar en 0 y termina en n-1"
   ]
  },
  {
   "cell_type": "code",
   "execution_count": 11,
   "metadata": {},
   "outputs": [
    {
     "name": "stdout",
     "output_type": "stream",
     "text": [
      "0\n",
      "1\n",
      "2\n",
      "3\n",
      "4\n",
      "5\n",
      "6\n",
      "7\n",
      "8\n",
      "estoy afuera del for\n"
     ]
    }
   ],
   "source": [
    "for i in range(9):\n",
    "    print(i)\n",
    "print('estoy afuera del for')"
   ]
  },
  {
   "cell_type": "markdown",
   "metadata": {},
   "source": [
    "---------------------------------------\n",
    "## Tipos de datos\n",
    "1. **Listas**:\n",
    "- Almacenan secuencias ordenadas de valores.\n",
    "- Son la estructura de datos mas elemental del lenguaje.\n",
    "- Pueden tener elementos de diferente tipo"
   ]
  },
  {
   "cell_type": "code",
   "execution_count": 13,
   "metadata": {},
   "outputs": [
    {
     "name": "stdout",
     "output_type": "stream",
     "text": [
      "[1, 'texto', True]\n"
     ]
    }
   ],
   "source": [
    "lista = [1, 'texto', True]\n",
    "print(lista)"
   ]
  },
  {
   "cell_type": "markdown",
   "metadata": {},
   "source": [
    "2. **Cadenas de caracteres**:\n",
    "     - Se utilizan para representar texto"
   ]
  },
  {
   "cell_type": "code",
   "execution_count": 17,
   "metadata": {},
   "outputs": [
    {
     "name": "stdout",
     "output_type": "stream",
     "text": [
      "Onda de Rossby meridional\n"
     ]
    }
   ],
   "source": [
    "cadena = 'Onda de Rossby'\n",
    "direccion = 'meridional'\n",
    "print(cadena,direccion)"
   ]
  },
  {
   "cell_type": "markdown",
   "metadata": {},
   "source": [
    "3. **Diccionarios**:\n",
    "    - Cada elemento esta formado por un par clave:valor.\n",
    "    - Las claves son unicas y pueden ser cadenas de caracteres, números.\n",
    "    - Los valores no son necesariamente unicos y pueden ser de cualquier tipo."
   ]
  },
  {
   "cell_type": "code",
   "execution_count": 18,
   "metadata": {},
   "outputs": [
    {
     "name": "stdout",
     "output_type": "stream",
     "text": [
      "{'a': 'alpha', 'g': 'gamma', 'o': 'omega'}\n"
     ]
    }
   ],
   "source": [
    "dict = {}\n",
    "dict['a'] = 'alpha'\n",
    "dict['g'] = 'gamma'\n",
    "dict['o'] = 'omega'\n",
    "\n",
    "print(dict)"
   ]
  },
  {
   "cell_type": "markdown",
   "metadata": {},
   "source": [
    "---------------------------------------\n",
    "## Estructuras de control\n",
    "1. **Condicional**"
   ]
  },
  {
   "cell_type": "code",
   "execution_count": 21,
   "metadata": {},
   "outputs": [
    {
     "name": "stdout",
     "output_type": "stream",
     "text": [
      "Cruzar la calle\n"
     ]
    }
   ],
   "source": [
    "semaforo = \"verde\"\n",
    "\n",
    "if semaforo == \"verde\": \n",
    "    print(\"Cruzar la calle\")\n",
    "else: \n",
    "    print(\"Esperar\")"
   ]
  },
  {
   "cell_type": "markdown",
   "metadata": {},
   "source": [
    "2. **Ciclos while y for**: es posible iterar sobre una lista de strings o texto y también sobre valores"
   ]
  },
  {
   "cell_type": "code",
   "execution_count": 23,
   "metadata": {},
   "outputs": [
    {
     "name": "stdout",
     "output_type": "stream",
     "text": [
      "Daniela\n",
      "Camila\n",
      "Gastón\n",
      "Leandro\n"
     ]
    }
   ],
   "source": [
    "mi_lista = ['Daniela', 'Camila', 'Gastón', 'Leandro'] \n",
    "for nombre in mi_lista: \n",
    "    print(nombre)"
   ]
  },
  {
   "cell_type": "code",
   "execution_count": 24,
   "metadata": {},
   "outputs": [
    {
     "name": "stdout",
     "output_type": "stream",
     "text": [
      "0\n",
      "1\n",
      "2\n",
      "3\n",
      "4\n"
     ]
    }
   ],
   "source": [
    "for i in range(5): \n",
    "    print(i)"
   ]
  },
  {
   "cell_type": "code",
   "execution_count": 29,
   "metadata": {},
   "outputs": [
    {
     "name": "stdout",
     "output_type": "stream",
     "text": [
      "La suma es 55\n"
     ]
    }
   ],
   "source": [
    "suma = 0\n",
    "numero = 1\n",
    "\n",
    "while numero <= 10:\n",
    "    suma = numero + suma\n",
    "    numero = numero + 1\n",
    "print(f\"La suma es {suma}\")\n"
   ]
  },
  {
   "cell_type": "markdown",
   "metadata": {},
   "source": [
    "---------------------------------------\n",
    "## Definición de funciones \n",
    "- Bloque de instrucciones que toma parámetros de entrada y (la mayoría de las veces) devuelve uno de salida\n",
    "- Las funciones se definen previo a su uso"
   ]
  },
  {
   "cell_type": "code",
   "execution_count": 32,
   "metadata": {},
   "outputs": [
    {
     "name": "stdout",
     "output_type": "stream",
     "text": [
      "10\n",
      "10\n",
      "None\n"
     ]
    }
   ],
   "source": [
    "def suma_de_numeros(a, b):\n",
    "    return a + b\n",
    "\n",
    "def suma_de_numeros_pares(a, b):\n",
    "    if a%2 == 0 and b%2==0:\n",
    "        c = a + b\n",
    "    else:\n",
    "        c = None\n",
    "    \n",
    "    return c\n",
    "\n",
    "a = 0\n",
    "b = 10\n",
    "c = suma_de_numeros(a,b)\n",
    "print(c)\n",
    "\n",
    "c = suma_de_numeros_pares(a,b)\n",
    "print(c)\n",
    "\n",
    "a = 1\n",
    "c = suma_de_numeros_pares(a,b)\n",
    "print(c)"
   ]
  },
  {
   "cell_type": "markdown",
   "metadata": {},
   "source": [
    "---------------------------------------\n",
    "## NumPy\n",
    "Librería que permite generar y manipular arrays multidimensionales. En estos arrays los elementos tienen que ser del mismo tipo"
   ]
  },
  {
   "cell_type": "code",
   "execution_count": 2,
   "metadata": {},
   "outputs": [
    {
     "name": "stdout",
     "output_type": "stream",
     "text": [
      "[[1 2]\n",
      " [3 4]]\n"
     ]
    }
   ],
   "source": [
    "# Creacion\n",
    "import numpy as np\n",
    "a = np.array([[1, 2], [3, 4]])\n",
    "b = a*2\n",
    "c = np.arange(15).reshape(3, 5)\n",
    "d = np.zeros((3, 4))\n",
    "e = np.ones((3, 4))\n",
    "\n",
    "print(a)"
   ]
  },
  {
   "cell_type": "code",
   "execution_count": null,
   "metadata": {},
   "outputs": [],
   "source": [
    "# atributos\n",
    "a.ndim  #Cantidad de dimensiones\n",
    "a.shape #Dimensiones\n",
    "a.size  #Cantidad total de elementos\n",
    "a.dtype #Tipo de dato"
   ]
  },
  {
   "cell_type": "code",
   "execution_count": null,
   "metadata": {},
   "outputs": [],
   "source": [
    "# operaciones \n",
    "a.min() #Valor minimo\n",
    "a.mean() #Valor medio\n",
    "a.sum() #Suma de los elementos\n",
    "a.std() #Desvio estandar\n",
    "a*b #Producto elemento a elemento\n",
    "np.dot(a, b) #Producto de matrices"
   ]
  },
  {
   "cell_type": "code",
   "execution_count": null,
   "metadata": {},
   "outputs": [],
   "source": [
    "a = np.arange(6)**3\n",
    "a[2], a[-1] #8, 64\n",
    "a[2:5] #array([ 8, 27, 64])\n",
    "a[:5:2] = -1000 \n",
    "a = a.reshape(2,3)\n",
    "a[1, 1] #-1000"
   ]
  },
  {
   "cell_type": "markdown",
   "metadata": {},
   "source": [
    "Dentro de numpy, hay funciones para realizar sobre los arrays, un ejemplo es np.mean. Para tener más información sobre esto pueden pedir ayuda"
   ]
  },
  {
   "cell_type": "code",
   "execution_count": 3,
   "metadata": {},
   "outputs": [
    {
     "data": {
      "text/plain": [
       "\u001b[0;31mSignature:\u001b[0m \u001b[0mnp\u001b[0m\u001b[0;34m.\u001b[0m\u001b[0mmean\u001b[0m\u001b[0;34m(\u001b[0m\u001b[0ma\u001b[0m\u001b[0;34m,\u001b[0m \u001b[0maxis\u001b[0m\u001b[0;34m=\u001b[0m\u001b[0;32mNone\u001b[0m\u001b[0;34m,\u001b[0m \u001b[0mdtype\u001b[0m\u001b[0;34m=\u001b[0m\u001b[0;32mNone\u001b[0m\u001b[0;34m,\u001b[0m \u001b[0mout\u001b[0m\u001b[0;34m=\u001b[0m\u001b[0;32mNone\u001b[0m\u001b[0;34m,\u001b[0m \u001b[0mkeepdims\u001b[0m\u001b[0;34m=\u001b[0m\u001b[0;34m<\u001b[0m\u001b[0mno\u001b[0m \u001b[0mvalue\u001b[0m\u001b[0;34m>\u001b[0m\u001b[0;34m)\u001b[0m\u001b[0;34m\u001b[0m\u001b[0;34m\u001b[0m\u001b[0m\n",
       "\u001b[0;31mDocstring:\u001b[0m\n",
       "Compute the arithmetic mean along the specified axis.\n",
       "\n",
       "Returns the average of the array elements.  The average is taken over\n",
       "the flattened array by default, otherwise over the specified axis.\n",
       "`float64` intermediate and return values are used for integer inputs.\n",
       "\n",
       "Parameters\n",
       "----------\n",
       "a : array_like\n",
       "    Array containing numbers whose mean is desired. If `a` is not an\n",
       "    array, a conversion is attempted.\n",
       "axis : None or int or tuple of ints, optional\n",
       "    Axis or axes along which the means are computed. The default is to\n",
       "    compute the mean of the flattened array.\n",
       "\n",
       "    .. versionadded:: 1.7.0\n",
       "\n",
       "    If this is a tuple of ints, a mean is performed over multiple axes,\n",
       "    instead of a single axis or all the axes as before.\n",
       "dtype : data-type, optional\n",
       "    Type to use in computing the mean.  For integer inputs, the default\n",
       "    is `float64`; for floating point inputs, it is the same as the\n",
       "    input dtype.\n",
       "out : ndarray, optional\n",
       "    Alternate output array in which to place the result.  The default\n",
       "    is ``None``; if provided, it must have the same shape as the\n",
       "    expected output, but the type will be cast if necessary.\n",
       "    See `ufuncs-output-type` for more details.\n",
       "\n",
       "keepdims : bool, optional\n",
       "    If this is set to True, the axes which are reduced are left\n",
       "    in the result as dimensions with size one. With this option,\n",
       "    the result will broadcast correctly against the input array.\n",
       "\n",
       "    If the default value is passed, then `keepdims` will not be\n",
       "    passed through to the `mean` method of sub-classes of\n",
       "    `ndarray`, however any non-default value will be.  If the\n",
       "    sub-class' method does not implement `keepdims` any\n",
       "    exceptions will be raised.\n",
       "\n",
       "Returns\n",
       "-------\n",
       "m : ndarray, see dtype parameter above\n",
       "    If `out=None`, returns a new array containing the mean values,\n",
       "    otherwise a reference to the output array is returned.\n",
       "\n",
       "See Also\n",
       "--------\n",
       "average : Weighted average\n",
       "std, var, nanmean, nanstd, nanvar\n",
       "\n",
       "Notes\n",
       "-----\n",
       "The arithmetic mean is the sum of the elements along the axis divided\n",
       "by the number of elements.\n",
       "\n",
       "Note that for floating-point input, the mean is computed using the\n",
       "same precision the input has.  Depending on the input data, this can\n",
       "cause the results to be inaccurate, especially for `float32` (see\n",
       "example below).  Specifying a higher-precision accumulator using the\n",
       "`dtype` keyword can alleviate this issue.\n",
       "\n",
       "By default, `float16` results are computed using `float32` intermediates\n",
       "for extra precision.\n",
       "\n",
       "Examples\n",
       "--------\n",
       ">>> a = np.array([[1, 2], [3, 4]])\n",
       ">>> np.mean(a)\n",
       "2.5\n",
       ">>> np.mean(a, axis=0)\n",
       "array([2., 3.])\n",
       ">>> np.mean(a, axis=1)\n",
       "array([1.5, 3.5])\n",
       "\n",
       "In single precision, `mean` can be inaccurate:\n",
       "\n",
       ">>> a = np.zeros((2, 512*512), dtype=np.float32)\n",
       ">>> a[0, :] = 1.0\n",
       ">>> a[1, :] = 0.1\n",
       ">>> np.mean(a)\n",
       "0.54999924\n",
       "\n",
       "Computing the mean in float64 is more accurate:\n",
       "\n",
       ">>> np.mean(a, dtype=np.float64)\n",
       "0.55000000074505806 # may vary\n",
       "\u001b[0;31mFile:\u001b[0m      /opt/conda/lib/python3.8/site-packages/numpy/core/fromnumeric.py\n",
       "\u001b[0;31mType:\u001b[0m      function\n"
      ]
     },
     "metadata": {},
     "output_type": "display_data"
    }
   ],
   "source": [
    "np.mean?"
   ]
  },
  {
   "cell_type": "markdown",
   "metadata": {},
   "source": [
    "---------------------------------------\n",
    "## Matplotlib\n",
    "Librería que permite hace gráficos. Hay varios ejemplos disponibles en [este link](https://matplotlib.org/3.1.1/gallery/index.html)"
   ]
  },
  {
   "cell_type": "code",
   "execution_count": 44,
   "metadata": {},
   "outputs": [
    {
     "data": {
      "image/png": "[encoded data removed]",
      "text/plain": [
       "<Figure size 432x288 with 1 Axes>"
      ]
     },
     "metadata": {
      "needs_background": "light"
     },
     "output_type": "display_data"
    }
   ],
   "source": [
    "import matplotlib.pyplot as plt\n",
    "\n",
    "N = 5\n",
    "menMeans = (20, 35, 30, 35, 27)\n",
    "womenMeans = (25, 32, 34, 20, 25)\n",
    "menStd = (2, 3, 4, 1, 2)\n",
    "womenStd = (3, 5, 2, 3, 3)\n",
    "ind = np.arange(N)    # the x locations for the groups\n",
    "width = 0.35       # the width of the bars: can also be len(x) sequence\n",
    "\n",
    "p1 = plt.bar(ind, menMeans, width, yerr=menStd)\n",
    "p2 = plt.bar(ind, womenMeans, width,\n",
    "             bottom=menMeans, yerr=womenStd)\n",
    "\n",
    "plt.ylabel('Scores')\n",
    "plt.title('Scores by group and gender')\n",
    "plt.xticks(ind, ('G1', 'G2', 'G3', 'G4', 'G5'))\n",
    "plt.yticks(np.arange(0, 81, 10))\n",
    "plt.legend((p1[0], p2[0]), ('Men', 'Women'))\n",
    "\n",
    "plt.show()"
   ]
  },
  {
   "cell_type": "markdown",
   "metadata": {},
   "source": [
    "---------------------------------------\n",
    "## Archivos binarios de Numpy: .npy y .npz\n",
    "Formas de guardar arrays\n",
    "- npy: permite almacenar un único array\n",
    "- npz: permiten almacenar múltiples arrays.\n",
    "   Se pueden luego cargar con np.load, que devuelve un diccionario que contiene {nombre: array} como par clave-valor, para cada array."
   ]
  },
  {
   "cell_type": "code",
   "execution_count": 53,
   "metadata": {},
   "outputs": [],
   "source": [
    "# Declaro algunos arrays de numpy\n",
    "a = np.array([[1, 2, 3], [4, 5, 6]])\n",
    "b = np.array([1, 2])\n",
    "\n",
    "# Guardo un único array\n",
    "np.save('./test.npy', a)\n",
    "data = np.load('./test.npy')"
   ]
  },
  {
   "cell_type": "code",
   "execution_count": 54,
   "metadata": {},
   "outputs": [],
   "source": [
    "# Guardo multiples arrays\n",
    "np.savez('./test.npz', a=a, b=b)\n",
    "data = np.load('./test.npz')\n",
    "a1 = data['a']\n",
    "b1 = data['b']\n",
    "data.close()"
   ]
  }
 ],
 "metadata": {
  "kernelspec": {
   "display_name": "Python 3",
   "language": "python",
   "name": "python3"
  },
  "language_info": {
   "codemirror_mode": {
    "name": "ipython",
    "version": 3
   },
   "file_extension": ".py",
   "mimetype": "text/x-python",
   "name": "python",
   "nbconvert_exporter": "python",
   "pygments_lexer": "ipython3",
   "version": "3.8.5"
  }
 },
 "nbformat": 4,
 "nbformat_minor": 4
}
