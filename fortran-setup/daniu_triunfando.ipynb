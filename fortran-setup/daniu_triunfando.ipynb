{
  "cells": [
    {
      "cell_type": "markdown",
      "metadata": {
        "colab_type": "text",
        "id": "view-in-github"
      },
      "source": [
        "<a href=\"https://colab.research.google.com/github/dbrisaro/circulacion-2c2021/blob/main/daniu_triunfando.ipynb\" target=\"_parent\"><img src=\"https://colab.research.google.com/assets/colab-badge.svg\" alt=\"Open In Colab\"/></a>"
      ]
    },
    {
      "cell_type": "code",
      "execution_count": null,
      "metadata": {
        "colab": {
          "base_uri": "https://localhost:8080/"
        },
        "id": "IGsJlBeKlF2C",
        "outputId": "815a28ea-a25d-464d-9a53-2a6272f2b726"
      },
      "outputs": [
        {
          "name": "stdout",
          "output_type": "stream",
          "text": [
            "Reading package lists...\n",
            "Building dependency tree...\n",
            "Reading state information...\n",
            "gfortran is already the newest version (4:7.4.0-1ubuntu2.3).\n",
            "The following package was automatically installed and is no longer required:\n",
            "  libnvidia-common-460\n",
            "Use 'sudo apt autoremove' to remove it.\n",
            "0 upgraded, 0 newly installed, 0 to remove and 40 not upgraded.\n"
          ]
        }
      ],
      "source": [
        "%%bash\n",
        "sudo apt-get install gfortran"
      ]
    },
    {
      "cell_type": "code",
      "execution_count": null,
      "metadata": {
        "colab": {
          "base_uri": "https://localhost:8080/"
        },
        "id": "TEch4p1xnF9C",
        "outputId": "b4652c75-f34b-4015-96cf-b67d4cbe5263"
      },
      "outputs": [
        {
          "name": "stdout",
          "output_type": "stream",
          "text": [
            "/content/drive/My Drive/docencia/circulacion-2c2021/modulo_oceano/modeloQG\n",
            "\u001b[0m\u001b[01;34mout_tmp\u001b[0m/  \u001b[01;34mout_tmp1\u001b[0m/  \u001b[01;32mQG\u001b[0m*  QG_barotrop.f  QG_param.dat\n"
          ]
        }
      ],
      "source": [
        "% cd /content/drive/My Drive/docencia/circulacion-2c2021/modulo_oceano/modeloQG\n",
        "% ls"
      ]
    },
    {
      "cell_type": "code",
      "execution_count": null,
      "metadata": {
        "id": "d0WIej58pSvd"
      },
      "outputs": [],
      "source": [
        "%%bash\n",
        "gfortran QG_barotrop.f -o QG"
      ]
    },
    {
      "cell_type": "code",
      "execution_count": null,
      "metadata": {
        "id": "wXaIlbrHpyzR"
      },
      "outputs": [],
      "source": [
        "%%bash\n",
        "./QG"
      ]
    },
    {
      "cell_type": "code",
      "execution_count": null,
      "metadata": {
        "colab": {
          "base_uri": "https://localhost:8080/"
        },
        "id": "SLcs4TNVrmtF",
        "outputId": "299dcf5b-2926-4117-e37d-3dabda72967a"
      },
      "outputs": [
        {
          "name": "stdout",
          "output_type": "stream",
          "text": [
            "/content/drive/My Drive/docencia/circulacion-2c2021/modulo_oceano/modeloQG/out_tmp\n",
            "psi01.dat  psi08.dat  psi15.dat    QG_wind_stress.dat  vor07.dat  vor14.dat\n",
            "psi02.dat  psi09.dat  psi16.dat    vor01.dat           vor08.dat  vor15.dat\n",
            "psi03.dat  psi10.dat  psi17.dat    vor02.dat           vor09.dat  vor16.dat\n",
            "psi04.dat  psi11.dat  psi18.dat    vor03.dat           vor10.dat  vor17.dat\n",
            "psi05.dat  psi12.dat  psi19.dat    vor04.dat           vor11.dat  vor18.dat\n",
            "psi06.dat  psi13.dat  psi20.dat    vor05.dat           vor12.dat  vor19.dat\n",
            "psi07.dat  psi14.dat  QG_diag.dat  vor06.dat           vor13.dat  vor20.dat\n"
          ]
        }
      ],
      "source": [
        "% cd /content/drive/My Drive/docencia/circulacion-2c2021/modulo_oceano/modeloQG/out_tmp\n",
        "% ls"
      ]
    },
    {
      "cell_type": "code",
      "execution_count": null,
      "metadata": {
        "colab": {
          "base_uri": "https://localhost:8080/",
          "height": 35
        },
        "id": "Vm3EDwihrxcL",
        "outputId": "9d0111c4-2763-487a-8dc9-63df95a10e95"
      },
      "outputs": [
        {
          "data": {
            "application/vnd.google.colaboratory.intrinsic+json": {
              "type": "string"
            },
            "text/plain": [
              "'/content/drive/My Drive/docencia/circulacion-2c2021/modulo_oceano/modeloQG/out_tmp'"
            ]
          },
          "execution_count": 31,
          "metadata": {
            "tags": []
          },
          "output_type": "execute_result"
        }
      ],
      "source": [
        "%pwd"
      ]
    }
  ],
  "metadata": {
    "colab": {
      "authorship_tag": "ABX9TyPFbA+49Z3EvdlcuIOqXLTE",
      "include_colab_link": true,
      "mount_file_id": "1hnaNRG8phrR6OG_-p_gBKqKyWLc9JcBn",
      "name": "daniu-triunfando.ipynb",
      "provenance": [],
      "toc_visible": true
    },
    "kernelspec": {
      "display_name": "Python 3.10.4 64-bit",
      "language": "python",
      "name": "python3"
    },
    "language_info": {
      "name": "python",
      "version": "3.10.4"
    },
    "vscode": {
      "interpreter": {
        "hash": "916dbcbb3f70747c44a77c7bcd40155683ae19c65e1c03b4aa3499c5328201f1"
      }
    }
  },
  "nbformat": 4,
  "nbformat_minor": 0
}
