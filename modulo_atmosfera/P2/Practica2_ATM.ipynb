{
 "cells": [
  {
   "cell_type": "markdown",
   "metadata": {},
   "source": [
    "##### Práctica 2\n",
    "---\n",
    "## Evolución de anomalı́as\n",
    "\n",
    "En esta práctica analizaremos 4 nuevas simulaciones que se obtuvieron a partir de los dos estados básicos (EB1 y EB2) correspondientes a la práctica anterior. Estas simulaciones tienen una duración de 60 dı́as: en los primeros dı́as son equivalentes a las estudiadas previamente, mientras que en los últimos 10 dı́as, se adicionó al forzante con el que se obtuvo el estado básico una fuente puntual para estudiar la evolución de las anomalı́as generadas.\n",
    "\n",
    "Se consideraron dos fuentes puntuales distintas:\n",
    "\n",
    "- Fuente 1: Ubicada en 28°S y 140°O\n",
    "- Fuente 2: Ubicada en 46°S y 140°O\n",
    "\n",
    "De este modo, consideraremos las siguientes 4 simulaciones:\n",
    "\n",
    "- EB1F1: Estado básico 1 + Fuente 1\n",
    "- EB1F2: Estado básico 1 + Fuente 2\n",
    "- EB2F1: Estado básico 2 + Fuente 1\n",
    "- EB2F2: Estado básico 2 + Fuente 2\n",
    "\n",
    "Para cada una de estas simulaciones\n",
    "\n",
    "a) graficar las anomalı́as zonales de la función corriente (restando el campo correspondiente al estado básico*) para los dı́as 2, 4 y 8 (desde que se introduce la fuente puntual). Hacer el gráfico para todo el planeta y para el dominio (90°S–10°N) X (60°E–180°O).\n",
    "\n",
    "b) construir diagramas de Hovmöller (desde que se introduce la fuente puntual) zonales y meridionales centrados en la fuente.\n",
    "\n",
    "c) discutir a partir de los gráficos anteriores la velocidad de fase (c), la velocidad de grupo ($c_g$), el número de onda zonal (k) y el número de onda meridional (l).\n",
    "\n",
    "**Nota:** Incluir en los mapas globales un indicador de la posición de la fuente puntual y en los diagramas de Hovmöller la aproximación realizada al estimar las velocidades.\n",
    "\n",
    "Discutan:\n",
    "\n",
    "I) Describir la evolución de las anomalı́as, especificando las caracterı́sticas de su propagación y su desarrollo. En particular, comparar la onda asociada directamente con la fuente con aquellas que se generan remotamente.\n",
    "\n",
    "II) Discutir la evolución de las anomalı́as en función de la ubicación relativa de las diferentes fuentes con respecto al estado básico correspondiente.\n",
    "\n",
    "III) Describir las diferencias en la evolución de las anomalı́as en función del estado básico considerado.\n",
    "\n",
    "(*) Aplicaremos una corrección al estado básico de la siguiente forma:\n",
    "\n",
    "\\begin{equation*}\n",
    "\\Psi _z = \\Psi |_{t=50} -  < \\Psi |_{t=50} > + < \\overline{\\Psi} | ^{t=60} _{t=51} >\n",
    "\\end{equation*}\n",
    "\n",
    "donde $<x>$ denota el promedio zonal de la variable x y $\\overline{x}$ su promedio temporal. De esta forma, las anomalı́as zonales deberán ser calculadas respecto a $\\Psi _z$."
   ]
  },
  {
   "cell_type": "markdown",
   "metadata": {},
   "source": []
  }
 ],
 "metadata": {
  "kernelspec": {
   "display_name": "Python 3",
   "language": "python",
   "name": "python3"
  },
  "language_info": {
   "codemirror_mode": {
    "name": "ipython",
    "version": 3
   },
   "file_extension": ".py",
   "mimetype": "text/x-python",
   "name": "python",
   "nbconvert_exporter": "python",
   "pygments_lexer": "ipython3",
   "version": "3.8.5"
  }
 },
 "nbformat": 4,
 "nbformat_minor": 4
}
