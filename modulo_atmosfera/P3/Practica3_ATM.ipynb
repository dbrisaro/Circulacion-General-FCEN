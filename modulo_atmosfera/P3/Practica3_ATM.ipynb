{
 "cells": [
  {
   "cell_type": "markdown",
   "metadata": {},
   "source": [
    "##### Práctica 3\n",
    "---\n",
    "## Evolución de la energı́a\n",
    "\n",
    "1. Dadas las simulaciones EB1F1 y EB2F1 utilizadas en la Práctica 2, graficar para el dı́a 2 (desde que se introduce la fuente puntual):\n",
    "\n",
    "a) Las energı́as potencial y cinética del flujo medio, superpuestas con las anomalı́as de altura de superficie libre (en dos paneles dispuestos verticalmente).\n",
    "\n",
    "b) Las energı́as potencial y cinética de las perturbaciones, superpuestas con las anomalı́as de altura de la superficie libre (en dos paneles dispuestos verticalmente).\n",
    "\n",
    "# Evolución de la energı́a cinética de las perturbaciones\n",
    "\n",
    "2. Considerar la simulación EB1F1 en el dominio (60°S – 5°N) X (170°O – 60°O). Grafique para los dı́as 1, 2 y 4 (desde que se introduce la fuente puntual), en cuatro paneles y manteniendo la misma escala.\n",
    "\n",
    "a) La advección total de energı́a cinética de las perturbaciones (\\*, en sombreado) y la energı́a cinética de las  perturbaciones (en contornos).\n",
    "\n",
    "b) Las energı́as potencial y cinética de las perturbaciones, superpuestas con las anomalı́as de altura de la superficie libre (en dos paneles dispuestos verticalmente).\n",
    "\n",
    "c) El término de dispersión de energı́a cinética (\\*, en sombreado), el flujo ageostrófico de geopotencial (\\*\\*, en vectores) y la energı́a cinética de las perturbaciones (en contornos).\n",
    "\n",
    "d) El término de conversión barotrópica (\\*, en sombreado) y la energı́a cinética de las perturbaciones (en contornos).\n",
    "\n",
    "Discutan:\n",
    "\n",
    "I) Explique la posición relativa de las perturbaciones con respecto a las diferentes formas de energı́a.\n",
    "\n",
    "II) ¿Cómo evoluciona de la energı́a cinética de las perturbaciones?\n",
    "\n",
    "III) ¿En qué sentido y en qué posición respecto a los centros de energı́a cinética de las perturbaciones, actúa cada uno de los términos de evolución de la energı́a cinética de las perturbaciones?\n",
    "\n",
    "IV) Describa fı́sicamente qué función cumple cada uno de dichos términos para esta situación.\n",
    "\n",
    "(\\*) Graficar estos términos en unidades de m<sup>2</sup> s<sup>–2</sup> dia<sup> –1</sup>\n",
    "\n",
    "(\\*\\*) Se sugiere calcular el viento geostrófico, para todos los dı́as de la simulación, desde 90°S hasta 5°S, para evitar los errores causados por la aproximación geostrófica cerca de Ecuador."
   ]
  },
  {
   "cell_type": "markdown",
   "metadata": {},
   "source": []
  }
 ],
 "metadata": {
  "kernelspec": {
   "display_name": "Python 3",
   "language": "python",
   "name": "python3"
  },
  "language_info": {
   "codemirror_mode": {
    "name": "ipython",
    "version": 3
   },
   "file_extension": ".py",
   "mimetype": "text/x-python",
   "name": "python",
   "nbconvert_exporter": "python",
   "pygments_lexer": "ipython3",
   "version": "3.8.5"
  }
 },
 "nbformat": 4,
 "nbformat_minor": 4
}
