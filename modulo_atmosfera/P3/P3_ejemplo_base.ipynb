{
 "cells": [
  {
   "cell_type": "code",
   "execution_count": null,
   "metadata": {},
   "outputs": [],
   "source": [
    "# Práctica 3\n",
    "\n",
    "#Cargamos las librerías que vamos a utilizar\n",
    "\n",
    "import numpy as np\n",
    "import warnings\n",
    "import xarray as xr\n",
    "import math\n",
    "import matplotlib.pyplot as plt\n",
    "import cartopy\n",
    "import cartopy.crs as ccrs\n",
    "import cartopy.feature\n",
    "from cartopy.mpl.ticker import LongitudeFormatter, LatitudeFormatter\n",
    "warnings.filterwarnings('ignore')"
   ]
  },
  {
   "cell_type": "code",
   "execution_count": null,
   "metadata": {},
   "outputs": [],
   "source": [
    "#Definimos funciones que vamos a utilizar\n",
    "\n",
    "\"\"\" \n",
    "Funcion para derivar en la direccion x tomando en cuenta la esfericidad de la tierra utilizando xarray\n",
    "\n",
    "INPUTS\n",
    "array: data array\n",
    "lat: array de latitudes\n",
    "\n",
    "OUTPUTS\n",
    "dUx: array con las derivadas\n",
    "\n",
    "\"\"\" \n",
    "\n",
    "# Funcion derivada segun x tomando en cuenta la esfericidad de la tierra\n",
    "def derivx(array,lat):\n",
    "    import numpy as np\n",
    "    import xarray as xr\n",
    "    dUx=array.differentiate(\"lon\")*np.true_divide(1,1/180*Rt*math.pi*np.cos(lat*np.pi/180))\n",
    "    return dUx\n",
    "\n",
    "\"\"\" \n",
    "Funcion para derivar en la direccion y tomando en cuenta la esfericidad de la tierra utilizando xarray\n",
    "\n",
    "INPUTS\n",
    "array: data array\n",
    "\n",
    "OUTPUTS\n",
    "dUy: array de dos dimensiones con las derivadas\n",
    "\n",
    "\"\"\" \n",
    "\n",
    "# Funcion derivada segun y tomando en cuenta la esfericidad de la tierra\n",
    "def derivy(array):\n",
    "    import numpy as np\n",
    "    import xarray as xr\n",
    "    dUy=array.differentiate(\"lat\")*np.true_divide(1,1/180*Rt*math.pi)\n",
    "    return dUy"
   ]
  },
  {
   "cell_type": "code",
   "execution_count": null,
   "metadata": {},
   "outputs": [],
   "source": [
    "#Cargamos la salida del modelo\n",
    "\n",
    "\n",
    "\n"
   ]
  },
  {
   "cell_type": "code",
   "execution_count": null,
   "metadata": {},
   "outputs": [],
   "source": [
    "#Ejercicio 1\n",
    "#Graficamos la energía potencial y cinética del flujo medio \n",
    "\n",
    "\n",
    "\n"
   ]
  },
  {
   "cell_type": "code",
   "execution_count": null,
   "metadata": {},
   "outputs": [],
   "source": [
    "#Ejercicio 1\n",
    "#Graficamos la energía potencial y cinética de las perturbaciones\n",
    "\n",
    "\n",
    "\n",
    "\n"
   ]
  },
  {
   "cell_type": "code",
   "execution_count": null,
   "metadata": {},
   "outputs": [],
   "source": [
    "#Ejercicio 2\n",
    "#Graficamos los 4 términos de la evolución de la energía cinética de las perturbaciones\n",
    "\n",
    "\n"
   ]
  }
 ],
 "metadata": {
  "kernelspec": {
   "display_name": "Python 3",
   "language": "python",
   "name": "python3"
  },
  "language_info": {
   "codemirror_mode": {
    "name": "ipython",
    "version": 3
   },
   "file_extension": ".py",
   "mimetype": "text/x-python",
   "name": "python",
   "nbconvert_exporter": "python",
   "pygments_lexer": "ipython3",
   "version": "3.8.10"
  }
 },
 "nbformat": 4,
 "nbformat_minor": 4
}
