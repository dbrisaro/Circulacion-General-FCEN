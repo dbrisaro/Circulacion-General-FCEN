{
 "cells": [
  {
   "cell_type": "markdown",
   "metadata": {},
   "source": [
    "##### Práctica 1\n",
    "---\n",
    "## Respuesta a forzantes y propagación meridional\n",
    "\n",
    "En esta práctica analizaremos dos simulaciones que fueron obtenidas a partir del modelo FMS Spectral Shallow Water (EB1.nc y EB2.nc). Esta simulaciones tienen una duración de 50 días, con el fin de alcanzar un estado estacionario que, en el último día, representó el estado básico correspondiente. \n",
    "\n",
    "Para cada una de las simulaciones, grafique:\n",
    "\n",
    "a) el forzante\n",
    "\n",
    "b) el viento zonal en el día 50\n",
    "\n",
    "c) el gradiente meridional de vorticidad absoluta en el día 50\n",
    "\n",
    "d) el número de onda estacionario $K_s$ transformado en cantidad de ondas por círculo de latitud\n",
    "\n",
    "Discutan:\n",
    "\n",
    "I) ¿Cómo se relaciona el forzante con la circulación que se obtiene para cada caso?\n",
    "\n",
    "II) ¿Qué determina que sea posible la propagación meridional de Ondas de Rossby? \n",
    "\n",
    "III) Discutan las condiciones para la propagación meridional de Ondas de Rossby para ambos Estados Básicos. ¿Cómo cambian esas condiciones para distintas longitudes?\n",
    "\n",
    "**Sugerencia:** Realice cortes longitudinales para analizar las varaciones de $K_s$.\n",
    "\n",
    "IV) Describan y expliquen las diferencias que encuentren entre ambos casos. "
   ]
  }
 ],
 "metadata": {
  "kernelspec": {
   "display_name": "Python 3",
   "language": "python",
   "name": "python3"
  },
  "language_info": {
   "codemirror_mode": {
    "name": "ipython",
    "version": 3
   },
   "file_extension": ".py",
   "mimetype": "text/x-python",
   "name": "python",
   "nbconvert_exporter": "python",
   "pygments_lexer": "ipython3",
   "version": "3.8.5"
  }
 },
 "nbformat": 4,
 "nbformat_minor": 4
}
