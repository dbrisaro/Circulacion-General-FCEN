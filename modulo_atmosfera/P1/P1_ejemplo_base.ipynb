{
 "cells": [
  {
   "cell_type": "code",
   "execution_count": null,
   "metadata": {},
   "outputs": [],
   "source": [
    "# Práctica 1\n",
    "\n",
    "#Cargamos las librerías que vamos a utilizar\n",
    "\n",
    "import numpy as np\n",
    "import warnings\n",
    "import xarray as xr\n",
    "import math\n",
    "import matplotlib.pyplot as plt\n",
    "import cartopy\n",
    "import cartopy.crs as ccrs\n",
    "import cartopy.feature\n",
    "from cartopy.mpl.ticker import LongitudeFormatter, LatitudeFormatter\n",
    "warnings.filterwarnings('ignore')"
   ]
  },
  {
   "cell_type": "code",
   "execution_count": 1,
   "metadata": {},
   "outputs": [],
   "source": [
    "#Definimos funciones que vamos a utilizar\n",
    "\n",
    "\"\"\" \n",
    "Funcion para derivar en la direccion y tomando en cuenta la esfericidad de la tierra\n",
    "\n",
    "INPUTS\n",
    "array: numpy array de dos/tres dimensiones (si es 3D, primer dimension deben ser los tiempos)\n",
    "dy: paso espacial en direccion y\n",
    "\n",
    "OUTPUTS\n",
    "dUy: array de dos dimensiones con las derivadas\n",
    "\n",
    "\"\"\" \n",
    "\n",
    "def derivy(array,dy):\n",
    "    import numpy as np\n",
    "\n",
    "    # Para array 3D\n",
    "    if (array.ndim==3):\n",
    "    \tdUy=array*0\n",
    "    \ta=len(array[0,:,0])\n",
    "    \tb=len(array[0,0,:])\n",
    "    \tfor time in range(0,np.size(array,0)):\n",
    "        \ti=0\n",
    "        \twhile i<a:\n",
    "            \t\tj=0\n",
    "            \t\twhile j<b:\n",
    "                \t\tif i==0:\n",
    "                    \t\t\tdUy[time,i,j]=(array[time,i+1,j]-array[time,i,j])/dy\n",
    "                \t\telif i==a-1:\n",
    "                    \t\t\tdUy[time,i,j]=(array[time,i,j]-array[time,i-1,j])/dy\n",
    "                \t\telse:\n",
    "                    \t\t\tdUy[time,i,j]=(array[time,i+1,j]-array[time,i-1,j])/dy/2\n",
    "                \t\tj=j+1\n",
    "            \t\ti=i+1\n",
    "\n",
    "    # Para array 2D\n",
    "    if (array.ndim==2):\n",
    "    \tdUy=array*0\n",
    "    \ta=len(array[:,0])\n",
    "    \tb=len(array[0,:])\n",
    "    \ti=0\n",
    "    \twhile i<a:\n",
    "    \t\tj=0\n",
    "    \t\twhile j<b:\n",
    "    \t\t\tif i==0:\n",
    "    \t\t\t\tdUy[i,j]=(array[i+1,j]-array[i,j])/dy\n",
    "    \t\t\telif i==a-1:\n",
    "    \t\t\t\tdUy[i,j]=(array[i,j]-array[i-1,j])/dy\n",
    "    \t\t\telse:\n",
    "    \t\t\t\tdUy[i,j]=(array[i+1,j]-array[i-1,j])/dy/2\n",
    "    \t\t\tj=j+1\n",
    "    \t\ti=i+1\n",
    "\n",
    "    return dUy\n"
   ]
  },
  {
   "cell_type": "code",
   "execution_count": null,
   "metadata": {},
   "outputs": [],
   "source": [
    "#Cargamos la salida del modelo\n",
    "\n",
    "\n",
    "\n"
   ]
  },
  {
   "cell_type": "code",
   "execution_count": null,
   "metadata": {},
   "outputs": [],
   "source": [
    "#Graficamos el forzante del modelo\n",
    "\n",
    "\n",
    "\n"
   ]
  },
  {
   "cell_type": "code",
   "execution_count": null,
   "metadata": {},
   "outputs": [],
   "source": [
    "#Graficamos el viento zonal en el día 50\n",
    "\n",
    "\n",
    "\n"
   ]
  },
  {
   "cell_type": "code",
   "execution_count": null,
   "metadata": {},
   "outputs": [],
   "source": [
    "#Graficamos el gradiente meridional de vorticidad absoluta en el día 50\n",
    "\n",
    "\n",
    "\n"
   ]
  },
  {
   "cell_type": "code",
   "execution_count": null,
   "metadata": {},
   "outputs": [],
   "source": [
    "# Graficamos el número de onda estacionario Ks transformado en cantidad de ondas por círculo de latitud\n",
    "\n",
    "\n",
    "\n"
   ]
  },
  {
   "cell_type": "code",
   "execution_count": null,
   "metadata": {},
   "outputs": [],
   "source": [
    "# Opcional: Corte longitudinal para analizar las varaciones de Ks\n",
    "\n",
    "\n",
    "\n"
   ]
  }
 ],
 "metadata": {
  "kernelspec": {
   "display_name": "Python 3",
   "language": "python",
   "name": "python3"
  },
  "language_info": {
   "codemirror_mode": {
    "name": "ipython",
    "version": 3
   },
   "file_extension": ".py",
   "mimetype": "text/x-python",
   "name": "python",
   "nbconvert_exporter": "python",
   "pygments_lexer": "ipython3",
   "version": "3.8.5"
  }
 },
 "nbformat": 4,
 "nbformat_minor": 4
}
