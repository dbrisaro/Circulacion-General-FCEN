{
 "cells": [
  {
   "cell_type": "markdown",
   "metadata": {},
   "source": [
    "##### Práctica 0 \n",
    "---\n",
    "## Introducción al modelo oceánico cuasigeostrófico\n",
    "\n",
    "1. Modelo de Stommel\n",
    "\n",
    "Utilizando el modelo ```QG_barotropic```, estudie el comportamiento del modelo de Stommel bajo la aproximación de plano $f$ y plano $\\beta$. Para facilitar la comparación, usar el mismo coeficiente de fricción de fondo en ambas simulaciones (sugerencia: utilizar los parámetros de entrada del modelo y un valor de $K$ igual a 2.5 10$^{‐5}$ s$^{‐1}$).\n",
    "\n",
    "a) Analizar el tiempo de estabilización de ambas corridas del modelo.\n",
    "\n",
    "b) Graficar  para  cada  caso  los  campos  de  función  corriente  (en  su  forma  no dimensional). Analizar y describir las diferencias.\n",
    "\n",
    "c) Identificar  en  las  ecuaciones  que  rigen  al  sistema  cuáles  son  los  términos responsables de las diferencias observadas. Dar una explicación en términos físicos.\n",
    "\n"
   ]
  }
 ],
 "metadata": {
  "kernelspec": {
   "display_name": "Python 3.10.4 64-bit",
   "language": "python",
   "name": "python3"
  },
  "language_info": {
   "codemirror_mode": {
    "name": "ipython",
    "version": 3
   },
   "file_extension": ".py",
   "mimetype": "text/x-python",
   "name": "python",
   "nbconvert_exporter": "python",
   "pygments_lexer": "ipython3",
   "version": "3.10.4"
  },
  "vscode": {
   "interpreter": {
    "hash": "916dbcbb3f70747c44a77c7bcd40155683ae19c65e1c03b4aa3499c5328201f1"
   }
  }
 },
 "nbformat": 4,
 "nbformat_minor": 4
}
