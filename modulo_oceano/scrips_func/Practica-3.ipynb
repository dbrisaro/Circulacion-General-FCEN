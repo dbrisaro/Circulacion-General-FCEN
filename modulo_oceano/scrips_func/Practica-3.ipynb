{
 "cells": [
  {
   "cell_type": "markdown",
   "metadata": {},
   "source": [
    "##### Práctica 3\n",
    "---\n",
    "## Circulación inducida por el viento \n",
    "### Efectos no lineales\n",
    "\n",
    "Estudiar el efecto de los términos no lineales en el problema de la circulación oceánica\n",
    "inducida por el viento\n",
    "\n",
    "1. **Giro único con efectos inerciales**. Considerar el problema combinado de Stommel-Munk para un giro simple, y realizar las siguientes simulaciones\n",
    "\n",
    "    | Simulación |  $R_0$  |  eps  | $A_h$ |\n",
    "    |------------|:-------:|:-----:|:-----:|\n",
    "    | 1          | 0.00005 |  0.01 | 0.001 |\n",
    "    | 2          |  0.0005 |  0.01 | 0.001 |\n",
    "    | 3          |  0.005  |  0.01 | 0.001 |\n",
    "    | 4          |  0.005  | 0.025 | 0.001 |\n",
    "    | 5          |  0.005  |  0.05 | 0.001 |\n",
    "\n",
    "    Para todas las simulaciones, utilizar los siguientes parámetros:\n",
    "\n",
    "    | Parametro | Valor | Descripción                                                       |\n",
    "    |-----------|-------|-------------------------------------------------------------------|\n",
    "    | im        |  202  | % number of grid points in the zonal direction                    |\n",
    "    | jm        |  102  | % number of grid points in the meridional direction ds            |\n",
    "    | ds        |  0.05 | % grid step                                                       |\n",
    "    | dt        |  0.05 | % time step                                                       |\n",
    "    | Ro        |  ---  | % Rossby number                                                   |\n",
    "    | eps       |  ---  | % non‐dimensional coefficient representing bottom friction        |\n",
    "    | Bh        |  0.0  | % non‐dimensional coeff. of horizontal bi‐harmonic mixing         |\n",
    "    | gamma     |  0.0  | % coeff. of \"intermediate slipping\" used as boundary cond.        |\n",
    "    | nst       |   1   | % start time step number                                          |\n",
    "    | nend      |  5000 | % end time step number                                            |\n",
    "    | nlpt      |  5000 | % frequency (time steps) for saving output                        |\n",
    "    | MCF       |   0   | % matrix (0) or column (1) output                                 |\n",
    "    | ncrit     |  4000 | % number of steps allowed to do the relaxation (sub. helm)        |\n",
    "    | pcrit     |  0.1  | % criterium to stop the relaxation                                |\n",
    "    | BFP       |   1   | % Beta (BFP=1) or F plane (BFP=0)                                 |\n",
    "    | GYR       |   1   | % Simple Gyre (GYR=1) or Double Gyre (GYR=2)                      |\n",
    "    | HEM       |   -1  | % North Hemisphere Gyre (HEM=1) or South Hemisphere Gyre (HEM=‐1) |\n",
    "\n",
    "      a) Graficar para cada simulación la energía cinética en función de las iteraciones, el campo de función corriente, la vorticidad total y la vorticidad relativa. Explique las diferencias que observa a medida que aumenta la inercia. Clasificar las soluciones de acuerdo a los cocientes $\\dfrac{\\delta_i}{\\delta_{v1}}$ y $\\dfrac{\\delta_i}{\\delta_f}$\n",
    "\n",
    "      Nota: aproxime la vorticidad planetaria como $f = \\beta y$, donde y es la distancia respecto al borde sur de la cuenca\n",
    "\n",
    "      b) ¿Cómo se modifica el balance de vorticidad en el borde oeste a medida que aumenta la inercia?\n",
    "\n",
    "2. **Escape inercial**. Para la configuración del giro único del punto 1) considere un caso tal que $\\dfrac{\\delta_i}{\\delta_f}$ = 4 y donde se ignoran los efectos de fricción lateral\n",
    "\n",
    "    a) Grafique el campo de función corriente y el transporte meridional (en Sv), y describa las características de la circulación. ¿Qué conclusiones deduce en base a su conocimiento de la circulación oceánica?\n"
   ]
  }
 ],
 "metadata": {
  "kernelspec": {
   "display_name": "Python 3",
   "language": "python",
   "name": "python3"
  },
  "language_info": {
   "codemirror_mode": {
    "name": "ipython",
    "version": 3
   },
   "file_extension": ".py",
   "mimetype": "text/x-python",
   "name": "python",
   "nbconvert_exporter": "python",
   "pygments_lexer": "ipython3",
   "version": "3.8.5"
  }
 },
 "nbformat": 4,
 "nbformat_minor": 4
}
