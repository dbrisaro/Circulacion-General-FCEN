{
 "cells": [
  {
   "cell_type": "markdown",
   "metadata": {},
   "source": [
    "##### Práctica 1 \n",
    "---\n",
    "## Circulación inducida por el viento \n",
    "### Modelo de Stommel\n",
    "\n",
    "Utilizar el modelo ```QG_barotrop``` para estudiar el comportamiento del modelo de Stommel. Considerar una cuenca de extensión zonal $L_x=4000$ $km$ y meridional $L_y=2000$ $km$ y tres valores distintos del coeficiente de fricción de fondo $K$:\n",
    "$$K_1 = 1.16 e^{-5} s^{-1}$$\n",
    "$$K_2 = 3.16 e^{-5} s^{-1}$$\n",
    "$$K_3 = 5.16 e^{-5} s^{-1}$$\n",
    "\n",
    "Programar en python el cálculo de las siguiente escalas típicas del problema:\n",
    "\n",
    "- Velocidad $\\rightarrow$ $U$ [m s$^{-1}$]\n",
    "\n",
    "Parámetros adimensionales:\n",
    "- Número de Rossby $\\rightarrow$ $R_0$\n",
    "- Número de Ekman vertical $\\rightarrow$ $E_f$\n",
    "- Número de Ekman horizontal $\\rightarrow$ $E_{v1}$\n",
    "\n",
    "Parámetro $\\delta$ y ancho ($W$) de la corriente de borde oeste, asociados a:\n",
    "- Efectos inerciales $\\rightarrow$ $\\delta_i$, $W_i$ \n",
    "- Fricción de fondo $\\rightarrow$ $\\delta_f$, $W_f$\n",
    "- Fricción lateral $\\rightarrow$ $\\delta_{v1}$, $W_{v1}$  \n",
    "\n",
    "1. Describa lo que observa en las siguiente situaciones:\n",
    "\n",
    "    a) Explicar para cada caso el proceso de spin-up del modelo, es decir, la estabilización numérica. Para ello, graficar la evolución de la energía cinética total.\n",
    "    \n",
    "    b) Calcular y graficar el campo de función corriente ($\\psi$) en m$^2$ s$^{-1}$, el transporte meridional ($M_y$) en Sv (1 Sv = 10$^6$ m$^3$ s$^{-1}$) y la vorticidad relativa ($\\varsigma$) en s$^{-1}$.\n",
    "    \n",
    "    c) Graficar un corte zonal del transporte meridional a la latitud central de la cuenca ($M_y$ [Sv] versus distancia [km]). Usar una misma figura para todas las simulaciones. Repetir el gráfico para la vorticidad relativa ($\\varsigma$ [s$^{-1}$] versus distancia [km])\n",
    "\n",
    "2. Estimar para cada simulación el transporte meridional de la corriente de borde oeste (en Sv), el transporte meridional total (en Sv) y la extensión zonal de la corriente de borte oeste (en km). Realizar todos los cálculos a la latitud central de la cuenca. Analizar la variación del transporte de la corriente de borde oeste y el ancho de la misma en función del coeficiente de fricción de fondo.\n",
    "\n",
    "3. Al alcanzar el estado estacionario, la ecuación del modelo de Stommel se reduce a:\n",
    "    $$ \\frac{\\partial \\psi'}{\\partial x'} - \\nabla \\times \\tau' + E_f \\varsigma' = 0$$ \n",
    "\n",
    "    Elegir una de las simulaciones y estimar para esa simulación cada uno de los términos de la ecuación (en su forma adimensional). Graficar un corte zonal a la latitud central de la cuenca de cada uno de los términos (en una misma figura). Explicar el significado físico de cada uno de los términos. Qué términos predominan en la corriente de borde oeste? Qué términos predominan en el interior de la cuenca? Cómo se denomina este último balance? Justifique su respuesta.\n",
    "\n",
    "4. Analice el balance de vorticidad en toda la cuenca siguiendo el recorrido de una parcela de agua a lo largo de una linea de corriente cerrada. Justifique\n",
    "\n",
    "\n"
   ]
  }
 ],
 "metadata": {
  "kernelspec": {
   "display_name": "Python 3",
   "language": "python",
   "name": "python3"
  },
  "language_info": {
   "codemirror_mode": {
    "name": "ipython",
    "version": 3
   },
   "file_extension": ".py",
   "mimetype": "text/x-python",
   "name": "python",
   "nbconvert_exporter": "python",
   "pygments_lexer": "ipython3",
   "version": "3.8.5"
  }
 },
 "nbformat": 4,
 "nbformat_minor": 4
}
