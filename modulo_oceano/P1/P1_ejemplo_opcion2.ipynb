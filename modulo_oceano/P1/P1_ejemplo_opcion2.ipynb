{
 "cells": [
  {
   "cell_type": "code",
   "execution_count": 1,
   "metadata": {},
   "outputs": [],
   "source": [
    "import numpy as np\n",
    "import warnings\n",
    "warnings.filterwarnings('ignore')\n",
    "import funciones"
   ]
  },
  {
   "cell_type": "code",
   "execution_count": 3,
   "metadata": {},
   "outputs": [
    {
     "name": "stdout",
     "output_type": "stream",
     "text": [
      "Los valores de eps (Ef) son \n",
      "Simulación 1: 0.145 \n",
      "Simulación 2: 0.395 \n",
      "Simulación 3: 0.645\n"
     ]
    }
   ],
   "source": [
    "# Práctica 1\n",
    "\n",
    "# Programar en python el cálculo de las siguiente escalas típicas del problema:\n",
    "# U, Ro, Ef, Ev1, deltai, deltaf, deltav1, Wi, Wf, Wv1,\n",
    "# Para calcular los parámetros, usar las magnitudes típicas mostradas\n",
    "# en la tabla del documento \"circulacion-2c2020/tutoriales/Modelo-oceanico\"\n",
    "\n",
    "tau = 0.25 #Tension del viento [N/m^2]\n",
    "L = 4000000 # Longitud de la cuenca [m]\n",
    "D = 2500 # Profundidad [m]\n",
    "beta = 2e-11 # Coeficiente de Coriolis [1/(s*m)]\n",
    "rho = 1025 # Densidad [kg/m^3]\n",
    "A = 0 # Coeficiente de viscosidad lateral [m^2/s]\n",
    "\n",
    "k_P1E1 = 1.16e-5 # Coeficiente de fricción de fondo [1/s]\n",
    "k_P1E2 = 3.16e-5 # Coeficiente de fricción de fondo [1/s]\n",
    "k_P1E3 = 5.16e-5 # Coeficiente de fricción de fondo [1/s]\n",
    "\n",
    "U_P1E1, Ro_P1E1, Ef_P1E1, Ev1_P1E1, deltai_P1E1, deltaf_P1E1, deltav1_P1E1, Wi_P1E1, Wf_P1E1, Wv1_P1E1 = funciones.parametros(tau, L, D, k_P1E1, A, beta, rho)\n",
    "U_P1E2, Ro_P1E2, Ef_P1E2, Ev1_P1E2, deltai_P1E2, deltaf_P1E2, deltav1_P1E2, Wi_P1E2, Wf_P1E2, Wv1_P1E2 = funciones.parametros(tau, L, D, k_P1E2, A, beta, rho)\n",
    "U_P1E3, Ro_P1E3, Ef_P1E3, Ev1_P1E3, deltai_P1E3, deltaf_P1E3, deltav1_P1E3, Wi_P1E3, Wf_P1E3, Wv1_P1E3 = funciones.parametros(tau, L, D, k_P1E3, A, beta, rho)\n",
    "\n",
    "print(f\"Los valores de eps (Ef) son \\nSimulación 1: {Ef_P1E1:.3f} \\nSimulación 2: {Ef_P1E2:.3f} \\nSimulación 3: {Ef_P1E3:.3f}\") \n"
   ]
  },
  {
   "cell_type": "code",
   "execution_count": 4,
   "metadata": {},
   "outputs": [],
   "source": [
    "#---------------------------------------------------------------------------------#\n",
    "# Ejercicio 1\n",
    "\n",
    "# Cargamos la salida del modelo\n",
    "\n",
    "\n",
    "Lx = 4000\n",
    "Ly = 2000\n",
    "nx = 200\n",
    "ny = 100\n",
    "\n",
    "dir_salida_P1E1 = '/home/jovyan/circulacion-2c2020/modulo_oceano/modeloQG/out_tmp1/'\n",
    "psi_temp_P1E1, vort_temp_P1E1, psiF_P1E1, vortF_P1E1, QG_diag_P1E1, QG_curlw_P1E1, X_P1E1, Y_P1E1, dx_P1E1, dy_P1E1 = funciones.cargar(dir_salida_P1E1, Lx, Ly, nx, ny)"
   ]
  },
  {
   "cell_type": "code",
   "execution_count": 16,
   "metadata": {},
   "outputs": [
    {
     "name": "stdout",
     "output_type": "stream",
     "text": [
      "Variable          Type        Data/Info\n",
      "---------------------------------------\n",
      "A                 int         0\n",
      "D                 int         2500\n",
      "Ef_P1E1           float       0.14500000000000002\n",
      "Ef_P1E2           float       0.3950000000000001\n",
      "Ef_P1E3           float       0.645\n",
      "Ev1_P1E1          float       0.0\n",
      "Ev1_P1E2          float       0.0\n",
      "Ev1_P1E3          float       0.0\n",
      "L                 int         4000000\n",
      "Lx                int         4000\n",
      "Ly                int         2000\n",
      "QG_curlw_P1E1     ndarray     102x202: 20604 elems, type `float64`, 164832 bytes (160.96875 kb)\n",
      "QG_diag_P1E1      ndarray     2000x4: 8000 elems, type `float64`, 64000 bytes\n",
      "Ro_P1E1           float       2.3945065957239276e-05\n",
      "Ro_P1E2           float       2.3945065957239276e-05\n",
      "Ro_P1E3           float       2.3945065957239276e-05\n",
      "U_P1E1            float       0.007662421106316568\n",
      "U_P1E2            float       0.007662421106316568\n",
      "U_P1E3            float       0.007662421106316568\n",
      "Wf_P1E1           float       580000.0000000001\n",
      "Wf_P1E2           float       1580000.0000000002\n",
      "Wf_P1E3           float       2580000.0\n",
      "Wi_P1E1           float       19573.478365273466\n",
      "Wi_P1E2           float       19573.478365273466\n",
      "Wi_P1E3           float       19573.478365273466\n",
      "Wv1_P1E1          float       0.0\n",
      "Wv1_P1E2          float       0.0\n",
      "Wv1_P1E3          float       0.0\n",
      "X_P1E1            ndarray     200: 200 elems, type `float64`, 1600 bytes\n",
      "Y_P1E1            ndarray     100: 100 elems, type `float64`, 800 bytes\n",
      "beta              float       2e-11\n",
      "cargar            function    <function cargar at 0x7f7e25e52ca0>\n",
      "deltaf_P1E1       float       0.14500000000000002\n",
      "deltaf_P1E2       float       0.3950000000000001\n",
      "deltaf_P1E3       float       0.645\n",
      "deltai_P1E1       float       0.0048933695913183665\n",
      "deltai_P1E2       float       0.0048933695913183665\n",
      "deltai_P1E3       float       0.0048933695913183665\n",
      "deltav1_P1E1      float       0.0\n",
      "deltav1_P1E2      float       0.0\n",
      "deltav1_P1E3      float       0.0\n",
      "dir_salida_P1E1   str         /home/jovyan/circulacion-<...>oceano/modeloQG/out_tmp1/\n",
      "dx_P1E1           float       20.100502512562816\n",
      "dy_P1E1           float       20.2020202020202\n",
      "k_P1E1            float       1.16e-05\n",
      "k_P1E2            float       3.16e-05\n",
      "k_P1E3            float       5.16e-05\n",
      "np                module      <module 'numpy' from '/op<...>kages/numpy/__init__.py'>\n",
      "nx                int         200\n",
      "ny                int         100\n",
      "parametros        function    <function parametros at 0x7f7e25e52b80>\n",
      "pd                module      <module 'pandas' from '/o<...>ages/pandas/__init__.py'>\n",
      "psiF_P1E1         ndarray     100x200: 20000 elems, type `float64`, 160000 bytes (156.25 kb)\n",
      "psi_temp_P1E1     ndarray     100x200x20: 400000 elems, type `float64`, 3200000 bytes (3.0517578125 Mb)\n",
      "rho               int         1025\n",
      "tau               float       0.25\n",
      "vortF_P1E1        ndarray     100x200: 20000 elems, type `float64`, 160000 bytes (156.25 kb)\n",
      "vort_temp_P1E1    ndarray     100x200x20: 400000 elems, type `float64`, 3200000 bytes (3.0517578125 Mb)\n",
      "warnings          module      <module 'warnings' from '<...>b/python3.8/warnings.py'>\n"
     ]
    }
   ],
   "source": [
    "## Inspeccionamos las variables cargadas\n",
    "%whos"
   ]
  },
  {
   "cell_type": "code",
   "execution_count": null,
   "metadata": {},
   "outputs": [],
   "source": [
    "## a) Estabilizacion del modelo\n",
    "\n",
    "\n",
    "\n"
   ]
  },
  {
   "cell_type": "code",
   "execution_count": null,
   "metadata": {},
   "outputs": [],
   "source": [
    "## b) Graficar el campo de funcion corriente, vorticidad relativa y transporte meridional. Todo con dimensiones\n",
    "\n",
    "\n",
    "\n"
   ]
  },
  {
   "cell_type": "code",
   "execution_count": null,
   "metadata": {},
   "outputs": [],
   "source": [
    "## c) Graficar un corte zonal del transporte meridional a la latitud central de la cuenca\n",
    "\n",
    "\n"
   ]
  },
  {
   "cell_type": "code",
   "execution_count": null,
   "metadata": {},
   "outputs": [],
   "source": [
    "#---------------------------------------------------------------------------------#\n",
    "# Ejercicio 2\n",
    "\n",
    "# Estimar para cada simulación \n",
    "# a) el transporte meridional de la CBO (en Sv),\n",
    "# b) el transporte meridional total (en Sv) y \n",
    "# c) la extensión zonal de la CBO (en km).\n"
   ]
  },
  {
   "cell_type": "code",
   "execution_count": null,
   "metadata": {},
   "outputs": [],
   "source": [
    "#---------------------------------------------------------------------------------#\n",
    "# Ejercicio 3\n",
    "\n",
    "# Estimar para una simulación cada uno de los términos de la ecuación\n",
    "# Calculo del gráfico de los términos de la ecuación estacionaria del modelo de Stommel en la latitud central de la cuenca para la simulación 1\n"
   ]
  }
 ],
 "metadata": {
  "kernelspec": {
   "display_name": "Python 3",
   "language": "python",
   "name": "python3"
  },
  "language_info": {
   "codemirror_mode": {
    "name": "ipython",
    "version": 3
   },
   "file_extension": ".py",
   "mimetype": "text/x-python",
   "name": "python",
   "nbconvert_exporter": "python",
   "pygments_lexer": "ipython3",
   "version": "3.8.5"
  }
 },
 "nbformat": 4,
 "nbformat_minor": 4
}
